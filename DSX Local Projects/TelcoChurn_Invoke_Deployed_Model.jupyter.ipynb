{
 "cells": [
  {
   "cell_type": "markdown",
   "metadata": {
    "deletable": true,
    "editable": true
   },
   "source": [
    "### Invoke deployed Telco Churn model with REST API call\n",
    "\n",
    "See documentation: https://datascience.ibm.com/docs/content/local/models.html?audience=local&context=analytics#test-a-model-online"
   ]
  },
  {
   "cell_type": "markdown",
   "metadata": {
    "deletable": true,
    "editable": true
   },
   "source": [
    "To run the code below, you must have:\n",
    "\n",
    "1. Published the Telco Churn model\n",
    "2. Created a deployment for the published model"
   ]
  },
  {
   "cell_type": "code",
   "execution_count": null,
   "metadata": {
    "collapsed": true,
    "deletable": true,
    "editable": true
   },
   "outputs": [],
   "source": [
    "import requests, json"
   ]
  },
  {
   "cell_type": "code",
   "execution_count": null,
   "metadata": {
    "collapsed": true,
    "deletable": true,
    "editable": true
   },
   "outputs": [],
   "source": [
    "# data to be scored in json format\n",
    "json_payload = [{\n",
    "    \"ID\":900,\n",
    "    \"Gender\":\"M\",\n",
    "    \"Status\":\"M\",\n",
    "    \"Children\":0,\n",
    "    \"EstIncome\":90000,\n",
    "    \"CarOwner\":\"Y\",\n",
    "    \"Age\":33.600000,\n",
    "    \"LongDistance\":900,\n",
    "    \"International\":800,\n",
    "    \"Local\":670,\n",
    "    \"Dropped\":0,\n",
    "    \"Paymethod\":\"CC\",\n",
    "    \"LocalBilltype\":\"Budget\",\n",
    "    \"LongDistanceBilltype\":\"Standard\",\n",
    "    \"Usage\":62.420000,\n",
    "    \"RatePlan\":3.000000\n",
    "} ]"
   ]
  },
  {
   "cell_type": "markdown",
   "metadata": {
    "deletable": true,
    "editable": true
   },
   "source": [
    "### <span style=\"color:red\"> Action Required </span>\n",
    "Replace the values for user, password, and `<Master Node IP>` in the code cell below with your values"
   ]
  },
  {
   "cell_type": "code",
   "execution_count": null,
   "metadata": {
    "collapsed": false,
    "deletable": true,
    "editable": true
   },
   "outputs": [],
   "source": [
    "# retrieve the token for invocation of the model\n",
    "user = '*****'\n",
    "password = '*****'\n",
    "mltoken = requests.get('https://<Master Node IP>/v2/identity/token', auth=(user, password), verify=False)\n",
    "\n",
    "print('Token:')\n",
    "mltoken = mltoken.json()['accessToken']\n",
    "print(mltoken)"
   ]
  },
  {
   "cell_type": "markdown",
   "metadata": {
    "deletable": true,
    "editable": true
   },
   "source": [
    "### Make the REST API call to invoke the model"
   ]
  },
  {
   "cell_type": "markdown",
   "metadata": {
    "deletable": true,
    "editable": true
   },
   "source": [
    "### <span style=\"color:red\"> Action Required </span>\n",
    "Replace the value for scoring_endpoint with your deployed model scoring endpoint.  The scoring endpoint is located in **Model Management > Deployments > View details > External Scoring Endpoint**"
   ]
  },
  {
   "cell_type": "code",
   "execution_count": null,
   "metadata": {
    "collapsed": true,
    "deletable": true,
    "editable": true
   },
   "outputs": [],
   "source": [
    "scoring_endpoint = 'XXXXXXX'\n",
    "\n",
    "header_online = {'Content-Type': 'application/json', 'Authorization': \"Bearer \" + mltoken}\n",
    "\n",
    "# REST API call here\n",
    "response_scoring = requests.post(scoring_endpoint, json=json_payload, headers=header_online, verify=False)\n",
    "\n",
    "print response_scoring.text"
   ]
  },
  {
   "cell_type": "code",
   "execution_count": null,
   "metadata": {
    "collapsed": false,
    "deletable": true,
    "editable": true
   },
   "outputs": [],
   "source": [
    "prediction = response_scoring.json()['object']['output']['predictions'][0]\n",
    "print ('Prediction = {}'.format(prediction))\n",
    "probabilities = response_scoring.json()['object']['output']['probabilities'][0]\n",
    "print ('Probabilities = {}'.format(probabilities))\n",
    "if prediction == 'F':\n",
    "    print('Prediction = False')\n",
    "    print('Probability = {0:.2f}'.format(probabilities[0]*100))\n",
    "elif prediction == 'T':\n",
    "    print('Prediction = True')\n",
    "    print('Probability = {0:.2f}%'.format(probabilities[1]*100))\n",
    "else:\n",
    "    print('Probability ERROR')"
   ]
  },
  {
   "cell_type": "markdown",
   "metadata": {
    "deletable": true,
    "editable": true
   },
   "source": [
    "**Author: Sidney Phoon<br/>\n",
    "Date: Feb 12th, 2018**"
   ]
  }
 ],
 "metadata": {
  "kernelspec": {
   "display_name": "Python 2",
   "language": "python",
   "name": "python2"
  },
  "language_info": {
   "codemirror_mode": {
    "name": "ipython",
    "version": 2
   },
   "file_extension": ".py",
   "mimetype": "text/x-python",
   "name": "python",
   "nbconvert_exporter": "python",
   "pygments_lexer": "ipython2",
   "version": "2.7.13"
  }
 },
 "nbformat": 4,
 "nbformat_minor": 2
}
