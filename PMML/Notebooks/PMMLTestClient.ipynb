{
 "cells": [
  {
   "cell_type": "markdown",
   "metadata": {},
   "source": [
    "### PMML REST API TEST CLIENT"
   ]
  },
  {
   "cell_type": "markdown",
   "metadata": {
    "collapsed": true
   },
   "source": [
    "#### <span style=\"color:blue\">Action Required</span>\n",
    "\n",
    "This step is to demonstrate the you can make an external REST API call to test the model\n",
    "\n",
    "* In the Deployment Details, copy the **EXTERNAL SCORING ENDPOINT** into your notepad, e.g. \n",
    "https://169.47.153.213/v2/scoring/online/dc0a0dce-f9af-4140-84af-b1eb7d92f0d5  (where 169.47.153.213 represents the master node IP)\n",
    "\n",
    "* In the code cell below, enter your `username`, `password` and replace `<master node IP>` with your instance IP\n"
   ]
  },
  {
   "cell_type": "code",
   "execution_count": 3,
   "metadata": {
    "collapsed": false
   },
   "outputs": [
    {
     "name": "stdout",
     "output_type": "stream",
     "text": [
      "{\n",
      "  \"fields\": [\"Lancome Gift with Purchase\", \"Shoe and Handbag sale\", \"Affinity\", \"Save 10% with store pickup\", \"Home Closeout\", \"Save 20% Career Suits\", \"Discount of Womens Active Shoes\", \"Free shipping on orders over $49\", \"Loyalty Program Member\", \"Johnston and Murphy\", \"Anastasia Beverly Hills\", \"Gender\", \"Annual Spend\", \"Dress sale - 30 percent off\", \"Womens Sweather Sale\", \"prediction\"],\n",
      "  \"records\": [[\"F\", \"F\", \"Womens Sportwear\", \"T\", \"F\", \"F\", \"F\", \"F\", \"NO\", \"F\", \"T\", \"F\", 411.354, \"F\", \"F\", \"Mobile\"]]\n",
      "}\n"
     ]
    }
   ],
   "source": [
    "import urllib3, requests, json\n",
    "from requests.packages.urllib3.exceptions import InsecureRequestWarning\n",
    "requests.packages.urllib3.disable_warnings(InsecureRequestWarning)\n",
    "\n",
    "headers = {'username': 'elowery', 'password': 'password'}\n",
    "\n",
    "response=requests.get('https://169.44.205.212/v2/identity/token', headers=headers, verify=False)\n",
    "\n",
    "# the generated token is the required credebtial for invoking the deployed model\n",
    "mltoken = json.loads(response.text).get('accessToken')\n",
    "\n",
    "# replace the <External Scoring Endpoint> with your own scoring endpoint\n",
    "scoring_endpoint = 'https://169.44.205.212/v2/scoring/online/bb49e879-f6c7-4391-a376-1c340a3b7741'\n",
    "\n",
    "json_payload = {\"fields\": [\n",
    "    \"Customer ID\",\n",
    "    \"Gender\",\n",
    "    \"Affinity\",\n",
    "    \"Annual Spend\",\n",
    "    \"Loyalty Program Member\",\n",
    "    \"Response Channel\",\n",
    "    \"CLV\",\n",
    "    \"Anastasia Beverly Hills\",\n",
    "    \"Discount of Womens Active Shoes\",\n",
    "    \"Dress sale - 30 percent off\",\n",
    "    \"Home Closeout\",\n",
    "    \"Johnston and Murphy\",\n",
    "    \"Lancome Gift with Purchase\",\n",
    "    \"Shoe and Handbag sale\",\n",
    "    \"Free shipping on orders over $49\",\n",
    "    \"Save 10% with store pickup\",\n",
    "    \"Womens Sweather Sale\",\n",
    "    \"Save 20% Career Suits\"\n",
    "    ],\n",
    "    \"records\": [ [10150,\"F\",\"Womens Sportwear\",411.354000,\"NO\",\"Mobile\",41135.400000,\"T\",\"F\",\"F\",\"F\",\"F\",\"F\",\"F\",\"F\",\"T\",\"F\",\"F\"] ]\n",
    "}\n",
    "\n",
    "headers = {'content-type': 'application/json','authorization': 'Bearer ' + mltoken}\n",
    "\n",
    "response_scoring =requests.post(scoring_endpoint, headers=headers, json=json_payload, verify=False)\n",
    "print response_scoring.text"
   ]
  },
  {
   "cell_type": "code",
   "execution_count": null,
   "metadata": {
    "collapsed": true
   },
   "outputs": [],
   "source": []
  }
 ],
 "metadata": {
  "kernelspec": {
   "display_name": "Python2 with DSX Spark",
   "language": "python",
   "name": "python2"
  },
  "language_info": {
   "codemirror_mode": {
    "name": "ipython",
    "version": 2
   },
   "file_extension": ".py",
   "mimetype": "text/x-python",
   "name": "python",
   "nbconvert_exporter": "python",
   "pygments_lexer": "ipython2",
   "version": "2.7.13"
  }
 },
 "nbformat": 4,
 "nbformat_minor": 2
}
